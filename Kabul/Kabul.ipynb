{
 "cells": [
  {
   "cell_type": "markdown",
   "metadata": {},
   "source": [
    "## Kabul SDES"
   ]
  },
  {
   "cell_type": "code",
   "execution_count": 25,
   "metadata": {},
   "outputs": [],
   "source": [
    "import pandas as pd\n",
    "import numpy as np\n",
    "\n",
    "import jinja2\n",
    "# pip install Jinja\n",
    "import pdfkit\n",
    "# sudo python3 -m pip install pdfkit\n",
    "# pip install pdfkit \n",
    "# https://wkhtmltopdf.org/downloads.html\n",
    "# https://stackoverflow.com/a/57065658/8403256\n",
    "\n",
    "templateLoader = jinja2.FileSystemLoader(searchpath=\"./\")\n",
    "templateEnv = jinja2.Environment(loader=templateLoader)\n",
    "templateDir = \"templates/\"\n",
    "resultDir = \"results/\"\n",
    "# TEMPLATE_FILE = \"templates/1.html\"\n",
    "# template = templateEnv.get_template(TEMPLATE_FILE)\n",
    "\n",
    "def fillTheTemplate(htmlFileName, valuesDictionary):\n",
    "    htmlFilePath = templateDir + htmlFileName\n",
    "    TEMPLATE_FILE = htmlFilePath\n",
    "    filledHtmlFilePath = resultDir + htmlFileName\n",
    "    \n",
    "    template = templateEnv.get_template(TEMPLATE_FILE)\n",
    "    outputText = template.render(valuesDictionary)\n",
    "    html_file = open(filledHtmlFilePath, 'w')\n",
    "    html_file.write(outputText)\n",
    "    html_file.close()\n",
    "    \n",
    "def generatePDF(htmlFileName):\n",
    "    nameWithoutExt = htmlFileName.split(\".\",1)[1]\n",
    "    print(nameWithoutExt)\n",
    "    pdfkit.from_file(resultDir + htmlFileName, resultDir + nameWithoutExt + '.pdf')\n",
    "    "
   ]
  },
  {
   "cell_type": "code",
   "execution_count": 27,
   "metadata": {},
   "outputs": [
    {
     "name": "stdout",
     "output_type": "stream",
     "text": [
      "html\n",
      "Loading pages (1/6)\n",
      "Counting pages (2/6)                                               \n",
      "Resolving links (4/6)                                                       \n",
      "Loading headers and footers (5/6)                                           \n",
      "Printing pages (6/6)\n",
      "Done                                                                      \n"
     ]
    }
   ],
   "source": [
    "# Page No. 1\n",
    "\n",
    "interest_rates = [3]\n",
    "initial_account_sizes = [100, 500, 20000, 50000]\n",
    "data_frames = []\n",
    "for interest_rate in interest_rates:\n",
    "    df = {}\n",
    "    for initial_account_size in initial_account_sizes:\n",
    "        df['Account Size: ' + str(initial_account_size)] = [initial_account_size * (1 + interest_rate) ** year for year in range(1, 21)]\n",
    "    df = pd.DataFrame(df)\n",
    "    df.index.name = 'year'\n",
    "    data_frames.append({'df':df,\n",
    "        'interest_rate':interest_rate})\n",
    "\n",
    "for d in data_frames:\n",
    "#     print(d)\n",
    "#     print(d['df'])\n",
    "#     print(d['interest_rate'])\n",
    "    fillTheTemplate('1.html', {\"df\": d['df'], \"interest_rate\": d['interest_rate']})\n",
    "    generatePDF('1.html')\n"
   ]
  },
  {
   "cell_type": "code",
   "execution_count": null,
   "metadata": {},
   "outputs": [],
   "source": []
  }
 ],
 "metadata": {
  "kernelspec": {
   "display_name": "Python 3",
   "language": "python",
   "name": "python3"
  },
  "language_info": {
   "codemirror_mode": {
    "name": "ipython",
    "version": 3
   },
   "file_extension": ".py",
   "mimetype": "text/x-python",
   "name": "python",
   "nbconvert_exporter": "python",
   "pygments_lexer": "ipython3",
   "version": "3.7.3"
  }
 },
 "nbformat": 4,
 "nbformat_minor": 2
}
